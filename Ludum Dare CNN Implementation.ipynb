{
 "cells": [
  {
   "cell_type": "code",
   "execution_count": 571,
   "metadata": {},
   "outputs": [],
   "source": [
    "import pandas as pd\n",
    "import numpy as np\n",
    "from sklearn.ensemble import RandomForestClassifier\n",
    "from sklearn.datasets import make_classification\n",
    "from sklearn.model_selection import train_test_split\n",
    "from sklearn import metrics\n",
    "from sklearn.utils import resample\n",
    "from sklearn.feature_extraction.text import TfidfVectorizer\n",
    "from sklearn.utils import shuffle\n",
    "import imblearn\n",
    "from imblearn.over_sampling import SMOTE\n",
    "from sklearn.feature_extraction.text import CountVectorizer\n",
    "from sklearn.feature_extraction.text import TfidfTransformer\n",
    "from sklearn.pipeline import Pipeline\n",
    "from scipy.sparse import csr_matrix\n",
    "\n",
    "import torch\n",
    "# from torch.utils.data import Dataset, DataLoader\n",
    "# import torch.optim as optim\n",
    "import torch.nn as nn\n",
    "# import torch.nn.functional as F\n",
    "# from torchvision import models"
   ]
  },
  {
   "cell_type": "code",
   "execution_count": 572,
   "metadata": {},
   "outputs": [
    {
     "data": {
      "text/plain": [
       "0    8496\n",
       "3    7524\n",
       "4    5523\n",
       "2     381\n",
       "5      23\n",
       "1       1\n",
       "Name: label, dtype: int64"
      ]
     },
     "execution_count": 572,
     "metadata": {},
     "output_type": "execute_result"
    }
   ],
   "source": [
    "# get train data from CSV\n",
    "df_train = pd.read_csv('cs480-spring2020/train.csv').fillna(' ')\n",
    "# df_train.dtypes\n",
    "df_train['label'].value_counts()"
   ]
  },
  {
   "cell_type": "markdown",
   "metadata": {},
   "source": [
    "### Preprocessing - Label Encoding for Category + Datetime + Description Text Noise Removal"
   ]
  },
  {
   "cell_type": "code",
   "execution_count": 550,
   "metadata": {},
   "outputs": [],
   "source": [
    "# category one hot encoding\n",
    "df_train['category'] = df_train['category'].astype('category')\n",
    "df_train['category'] = df_train['category'].cat.codes\n",
    "\n",
    "# datetime columns\n",
    "df_train['published'] = pd.to_datetime(df_train['published'], \n",
    " format = '%Y-%m-%dT%H:%M:%SZ', \n",
    " errors = 'coerce')\n",
    "df_train['modified'] = pd.to_datetime(df_train['modified'], \n",
    " format = '%Y-%m-%dT%H:%M:%SZ', \n",
    " errors = 'coerce')\n",
    "\n",
    "df_train['published_year'] = df_train['published'].dt.year\n",
    "df_train['published_month'] = df_train['published'].dt.month\n",
    "df_train['published_week'] = df_train['published'].dt.week\n",
    "df_train['published_day'] = df_train['published'].dt.day\n",
    "df_train['published_hour'] = df_train['published'].dt.hour\n",
    "df_train['published_minute'] = df_train['published'].dt.minute\n",
    "df_train['published_dayofweek'] = df_train['published'].dt.dayofweek\n",
    "\n",
    "df_train['modified_year'] = df_train['modified'].dt.year\n",
    "df_train['modified_month'] = df_train['modified'].dt.month\n",
    "df_train['modified_week'] = df_train['modified'].dt.week\n",
    "df_train['modified_day'] = df_train['modified'].dt.day\n",
    "df_train['modified_hour'] = df_train['modified'].dt.hour\n",
    "df_train['modified_minute'] = df_train['modified'].dt.minute\n",
    "df_train['modified_dayofweek'] = df_train['modified'].dt.dayofweek\n",
    "\n",
    "# Noise Removal\n",
    "df_train['description'] = df_train['description'].str.replace('[^a-zA-Z\\s]', '')\n",
    "\n",
    "\n",
    "# X = df_train[['competition-num', 'num-comments','version', 'category', \n",
    "#         'published_year', 'published_month', 'published_week', 'published_day', 'published_hour', 'published_minute', 'published_dayofweek',\n",
    "#         'modified_year', 'modified_month', 'modified_week', 'modified_day', 'modified_hour', 'modified_minute', 'modified_dayofweek',\n",
    "#        'feedback-karma', 'ratings-given', 'ratings-received','num-authors', 'prev-games', 'fun-average',\n",
    "#        'innovation-average', 'theme-average', 'graphics-average',\n",
    "#        'audio-average', 'humor-average', 'mood-average', 'fun-rank',\n",
    "#        'innovation-rank', 'theme-rank', 'graphics-rank', 'audio-rank',\n",
    "#        'humor-rank', 'mood-rank']]  # Features\n",
    "# y = df_train['label']  # Labels\n",
    "\n",
    "\n",
    "\n",
    "# X_train, X_test, y_train, y_test = train_test_split(X, y, test_size=0.3) # 70% training and 30% test\n",
    "# df_train = pd.concat([X_train, y_train], axis=1)\n",
    "# df_test = pd.concat([X_test, y_test], axis=1)\n",
    "\n",
    "# num_test = len(df_test)\n",
    "# df_train.head()"
   ]
  },
  {
   "cell_type": "code",
   "execution_count": null,
   "metadata": {},
   "outputs": [],
   "source": []
  },
  {
   "cell_type": "code",
   "execution_count": null,
   "metadata": {},
   "outputs": [],
   "source": []
  },
  {
   "cell_type": "markdown",
   "metadata": {},
   "source": [
    "### Data Augmentation - Only on df_train"
   ]
  },
  {
   "cell_type": "code",
   "execution_count": 341,
   "metadata": {},
   "outputs": [],
   "source": [
    "# resample label = 1 6 times because there's only 1 entry\n",
    "label_1 = df_train[df_train.label==1]\n",
    "\n",
    "# upsample minority\n",
    "label_1_upsampled = resample(label_1,\n",
    "                          replace=True, # sample with replacement\n",
    "                          n_samples=6) # match number in majority class\n",
    "\n",
    "df_train = pd.concat([df_train, label_1_upsampled])"
   ]
  },
  {
   "cell_type": "code",
   "execution_count": 342,
   "metadata": {},
   "outputs": [],
   "source": [
    "X_train = df_train[['competition-num', 'num-comments','version', 'category',\n",
    "        'published_year', 'published_month', 'published_week', 'published_day', 'published_hour', 'published_minute', 'published_dayofweek',\n",
    "        'modified_year', 'modified_month', 'modified_week', 'modified_day', 'modified_hour', 'modified_minute', 'modified_dayofweek',\n",
    "       'feedback-karma', 'ratings-given', 'ratings-received','num-authors', 'prev-games', 'fun-average',\n",
    "       'innovation-average', 'theme-average', 'graphics-average',\n",
    "       'audio-average', 'humor-average', 'mood-average', 'fun-rank',\n",
    "       'innovation-rank', 'theme-rank', 'graphics-rank', 'audio-rank',\n",
    "       'humor-rank', 'mood-rank']]  # Features\n",
    "y_train = df_train['label']  # Labels"
   ]
  },
  {
   "cell_type": "code",
   "execution_count": 343,
   "metadata": {},
   "outputs": [
    {
     "data": {
      "text/plain": [
       "5    6013\n",
       "4    6013\n",
       "3    6013\n",
       "2    6013\n",
       "1    6013\n",
       "0    6013\n",
       "Name: label, dtype: int64"
      ]
     },
     "execution_count": 343,
     "metadata": {},
     "output_type": "execute_result"
    }
   ],
   "source": [
    "oversample = SMOTE()\n",
    "X_train, y_train = oversample.fit_resample(X_train, y_train)\n",
    "y_train.value_counts()"
   ]
  },
  {
   "cell_type": "code",
   "execution_count": 344,
   "metadata": {},
   "outputs": [],
   "source": [
    "df_train = pd.concat([X_train, y_train], axis=1)\n",
    "df_train = shuffle(df_train).reset_index()\n",
    "\n",
    "df_train = pd.concat([df_train, df_test]) # Add them back together"
   ]
  },
  {
   "cell_type": "markdown",
   "metadata": {},
   "source": [
    "### Separating the columns into 'Categorical', 'Numerical' and 'Output'"
   ]
  },
  {
   "cell_type": "code",
   "execution_count": 551,
   "metadata": {},
   "outputs": [],
   "source": [
    "categorical_columns = ['category']\n",
    "numerical_columns = ['competition-num', 'num-comments','version',\n",
    "       'published_year', 'published_month', 'published_week', 'published_day', 'published_hour', 'published_minute', 'published_dayofweek',\n",
    "        'modified_year', 'modified_month', 'modified_week', 'modified_day', 'modified_hour', 'modified_minute', 'modified_dayofweek',\n",
    "        'feedback-karma', 'ratings-given', 'ratings-received','num-authors', 'prev-games', 'fun-average',\n",
    "       'innovation-average', 'theme-average', 'graphics-average',\n",
    "       'audio-average', 'humor-average', 'mood-average', 'fun-rank',\n",
    "       'innovation-rank', 'theme-rank', 'graphics-rank', 'audio-rank',\n",
    "       'humor-rank', 'mood-rank']\n",
    "outputs = ['label']"
   ]
  },
  {
   "cell_type": "code",
   "execution_count": 552,
   "metadata": {},
   "outputs": [],
   "source": [
    "for category in categorical_columns:\n",
    "    df_train[category] = df_train[category].astype('category')"
   ]
  },
  {
   "cell_type": "code",
   "execution_count": 553,
   "metadata": {},
   "outputs": [],
   "source": [
    "# df_train.dtypes"
   ]
  },
  {
   "cell_type": "markdown",
   "metadata": {},
   "source": [
    "## Converting columns to Tensors"
   ]
  },
  {
   "cell_type": "markdown",
   "metadata": {},
   "source": [
    "#### Categorical"
   ]
  },
  {
   "cell_type": "code",
   "execution_count": 554,
   "metadata": {},
   "outputs": [
    {
     "data": {
      "text/plain": [
       "tensor([[1],\n",
       "        [0],\n",
       "        [1],\n",
       "        [1],\n",
       "        [0]])"
      ]
     },
     "execution_count": 554,
     "metadata": {},
     "output_type": "execute_result"
    }
   ],
   "source": [
    "category = df_train['category'].cat.codes.values\n",
    "# pub = df_train['published'].cat.codes.values\n",
    "categorical_data = np.stack([category], 1)\n",
    "categorical_data = torch.tensor(categorical_data, dtype=torch.int64)\n",
    "categorical_data[:5]"
   ]
  },
  {
   "cell_type": "markdown",
   "metadata": {},
   "source": [
    "#### Numerical"
   ]
  },
  {
   "cell_type": "code",
   "execution_count": 555,
   "metadata": {},
   "outputs": [
    {
     "data": {
      "text/plain": [
       "tensor([[ 3.8000e+01,  1.7000e+01,  7.3140e+04,  2.0170e+03,  4.0000e+00,\n",
       "          1.7000e+01,  2.5000e+01,  1.0000e+00,  1.0000e+00,  1.0000e+00,\n",
       "          2.0170e+03,  5.0000e+00,  1.8000e+01,  1.0000e+00,  6.0000e+00,\n",
       "          3.5000e+01,  0.0000e+00,  1.9000e+01,  5.2125e+01,  2.6571e+01,\n",
       "          5.0000e+00,  0.0000e+00,  3.8400e+00,  3.2800e+00,  3.7200e+00,\n",
       "          3.6800e+00, -1.0000e+00,  4.0000e+00,  3.6090e+00,  8.8000e+01,\n",
       "          2.9800e+02,  2.3000e+02,  3.2800e+02, -1.0000e+00,  3.8000e+01,\n",
       "          2.0200e+02]])"
      ]
     },
     "execution_count": 555,
     "metadata": {},
     "output_type": "execute_result"
    }
   ],
   "source": [
    "numerical_data = np.stack([df_train[col].values for col in numerical_columns], 1)\n",
    "numerical_data = torch.tensor(numerical_data, dtype=torch.float)\n",
    "numerical_data[:1]"
   ]
  },
  {
   "cell_type": "markdown",
   "metadata": {},
   "source": [
    "#### Output"
   ]
  },
  {
   "cell_type": "code",
   "execution_count": 556,
   "metadata": {},
   "outputs": [
    {
     "data": {
      "text/plain": [
       "tensor([4, 4, 4, 4, 3])"
      ]
     },
     "execution_count": 556,
     "metadata": {},
     "output_type": "execute_result"
    }
   ],
   "source": [
    "# df_train['label'] = df_train['label'].astype('category')\n",
    "outputs = torch.tensor(df_train[outputs].values).flatten()\n",
    "outputs[:5]"
   ]
  },
  {
   "cell_type": "code",
   "execution_count": 557,
   "metadata": {},
   "outputs": [
    {
     "name": "stdout",
     "output_type": "stream",
     "text": [
      "torch.Size([21948, 1])\n",
      "torch.Size([21948, 36])\n",
      "torch.Size([21948])\n"
     ]
    }
   ],
   "source": [
    "print(categorical_data.shape)\n",
    "print(numerical_data.shape)\n",
    "print(outputs.shape)"
   ]
  },
  {
   "cell_type": "markdown",
   "metadata": {},
   "source": [
    "### Categorical Embedding"
   ]
  },
  {
   "cell_type": "code",
   "execution_count": 558,
   "metadata": {},
   "outputs": [
    {
     "name": "stdout",
     "output_type": "stream",
     "text": [
      "[(2, 1)]\n"
     ]
    }
   ],
   "source": [
    "categorical_column_sizes = [len(df_train[column].cat.categories) for column in categorical_columns]\n",
    "categorical_embedding_sizes = [(col_size, min(50, (col_size+1)//2)) for col_size in categorical_column_sizes]\n",
    "print(categorical_embedding_sizes)"
   ]
  },
  {
   "cell_type": "code",
   "execution_count": null,
   "metadata": {},
   "outputs": [],
   "source": []
  },
  {
   "cell_type": "markdown",
   "metadata": {},
   "source": [
    "## Train Test Split"
   ]
  },
  {
   "cell_type": "code",
   "execution_count": 559,
   "metadata": {},
   "outputs": [],
   "source": [
    "total_records = len(df_train)\n",
    "test_records = int(total_records*0.3)\n",
    "# test_records = 0\n",
    "\n",
    "categorical_train_data = categorical_data[:total_records-test_records]\n",
    "categorical_test_data = categorical_data[total_records-test_records:total_records]\n",
    "numerical_train_data = numerical_data[:total_records-test_records]\n",
    "numerical_test_data = numerical_data[total_records-test_records:total_records]\n",
    "train_outputs = outputs[:total_records-test_records]\n",
    "test_outputs = outputs[total_records-test_records:total_records]"
   ]
  },
  {
   "cell_type": "code",
   "execution_count": 560,
   "metadata": {},
   "outputs": [
    {
     "name": "stdout",
     "output_type": "stream",
     "text": [
      "15364\n",
      "15364\n",
      "15364\n",
      "6584\n",
      "6584\n",
      "6584\n"
     ]
    }
   ],
   "source": [
    "print(len(categorical_train_data))\n",
    "print(len(numerical_train_data))\n",
    "print(len(train_outputs))\n",
    "\n",
    "print(len(categorical_test_data))\n",
    "print(len(numerical_test_data))\n",
    "print(len(test_outputs))"
   ]
  },
  {
   "cell_type": "code",
   "execution_count": null,
   "metadata": {},
   "outputs": [],
   "source": []
  },
  {
   "cell_type": "markdown",
   "metadata": {},
   "source": [
    "## Neural Network Model"
   ]
  },
  {
   "cell_type": "code",
   "execution_count": 561,
   "metadata": {},
   "outputs": [],
   "source": [
    "class Model(nn.Module):\n",
    "\n",
    "    def __init__(self, embedding_size, num_numerical_cols, output_size, layers, p=0.2):\n",
    "        super().__init__()\n",
    "        self.all_embeddings = nn.ModuleList([nn.Embedding(ni, nf) for ni, nf in embedding_size])\n",
    "        self.embedding_dropout = nn.Dropout(p)\n",
    "        self.batch_norm_num = nn.BatchNorm1d(num_numerical_cols)\n",
    "\n",
    "        all_layers = []\n",
    "        num_categorical_cols = sum((nf for ni, nf in embedding_size))\n",
    "        input_size = num_categorical_cols + num_numerical_cols\n",
    "\n",
    "        for i in layers:\n",
    "            all_layers.append(nn.Linear(input_size, i))\n",
    "            all_layers.append(nn.ReLU(inplace=True))\n",
    "            all_layers.append(nn.BatchNorm1d(i))\n",
    "            all_layers.append(nn.Dropout(p))\n",
    "            input_size = i\n",
    "\n",
    "        all_layers.append(nn.Linear(layers[-1], output_size))\n",
    "\n",
    "        self.layers = nn.Sequential(*all_layers)\n",
    "\n",
    "    def forward(self, x_categorical, x_numerical):\n",
    "        embeddings = []\n",
    "        for i,e in enumerate(self.all_embeddings):\n",
    "            embeddings.append(e(x_categorical[:,i]))\n",
    "        x = torch.cat(embeddings, 1)\n",
    "        x = self.embedding_dropout(x)\n",
    "\n",
    "        x_numerical = self.batch_norm_num(x_numerical)\n",
    "        x = torch.cat([x, x_numerical], 1)\n",
    "        x = self.layers(x)\n",
    "        return x"
   ]
  },
  {
   "cell_type": "code",
   "execution_count": null,
   "metadata": {},
   "outputs": [],
   "source": []
  },
  {
   "cell_type": "code",
   "execution_count": 562,
   "metadata": {},
   "outputs": [],
   "source": [
    "# model = Model(categorical_embedding_sizes, numerical_data.shape[1], 6, [200,100,50], p=0.4)\n",
    "\n",
    "model = Model(categorical_embedding_sizes, numerical_data.shape[1], 6, [10000,5000,2500,1000,500], p=0.2)"
   ]
  },
  {
   "cell_type": "code",
   "execution_count": 563,
   "metadata": {},
   "outputs": [
    {
     "name": "stdout",
     "output_type": "stream",
     "text": [
      "Model(\n",
      "  (all_embeddings): ModuleList(\n",
      "    (0): Embedding(2, 1)\n",
      "  )\n",
      "  (embedding_dropout): Dropout(p=0.2, inplace=False)\n",
      "  (batch_norm_num): BatchNorm1d(36, eps=1e-05, momentum=0.1, affine=True, track_running_stats=True)\n",
      "  (layers): Sequential(\n",
      "    (0): Linear(in_features=37, out_features=10000, bias=True)\n",
      "    (1): ReLU(inplace=True)\n",
      "    (2): BatchNorm1d(10000, eps=1e-05, momentum=0.1, affine=True, track_running_stats=True)\n",
      "    (3): Dropout(p=0.2, inplace=False)\n",
      "    (4): Linear(in_features=10000, out_features=5000, bias=True)\n",
      "    (5): ReLU(inplace=True)\n",
      "    (6): BatchNorm1d(5000, eps=1e-05, momentum=0.1, affine=True, track_running_stats=True)\n",
      "    (7): Dropout(p=0.2, inplace=False)\n",
      "    (8): Linear(in_features=5000, out_features=2500, bias=True)\n",
      "    (9): ReLU(inplace=True)\n",
      "    (10): BatchNorm1d(2500, eps=1e-05, momentum=0.1, affine=True, track_running_stats=True)\n",
      "    (11): Dropout(p=0.2, inplace=False)\n",
      "    (12): Linear(in_features=2500, out_features=1000, bias=True)\n",
      "    (13): ReLU(inplace=True)\n",
      "    (14): BatchNorm1d(1000, eps=1e-05, momentum=0.1, affine=True, track_running_stats=True)\n",
      "    (15): Dropout(p=0.2, inplace=False)\n",
      "    (16): Linear(in_features=1000, out_features=500, bias=True)\n",
      "    (17): ReLU(inplace=True)\n",
      "    (18): BatchNorm1d(500, eps=1e-05, momentum=0.1, affine=True, track_running_stats=True)\n",
      "    (19): Dropout(p=0.2, inplace=False)\n",
      "    (20): Linear(in_features=500, out_features=6, bias=True)\n",
      "  )\n",
      ")\n"
     ]
    }
   ],
   "source": [
    "print(model)"
   ]
  },
  {
   "cell_type": "markdown",
   "metadata": {},
   "source": [
    "## Optimizer"
   ]
  },
  {
   "cell_type": "code",
   "execution_count": 564,
   "metadata": {},
   "outputs": [],
   "source": [
    "loss_function = nn.CrossEntropyLoss()\n",
    "optimizer = torch.optim.Adam(model.parameters(), lr=0.001)"
   ]
  },
  {
   "cell_type": "code",
   "execution_count": null,
   "metadata": {},
   "outputs": [],
   "source": []
  },
  {
   "cell_type": "markdown",
   "metadata": {},
   "source": [
    "## Train"
   ]
  },
  {
   "cell_type": "code",
   "execution_count": 565,
   "metadata": {},
   "outputs": [
    {
     "name": "stdout",
     "output_type": "stream",
     "text": [
      "epoch:   1 loss: 1.95255065\n",
      "epoch:   2 loss: 0.85305005\n",
      "epoch:   3 loss: 0.97538352\n",
      "epoch:   4 loss: 0.40015364\n",
      "epoch:   5 loss: 0.32195863\n",
      "epoch:   5 loss: 0.3219586313\n"
     ]
    }
   ],
   "source": [
    "epochs = 10\n",
    "aggregated_losses = []\n",
    "\n",
    "for i in range(epochs):\n",
    "    i += 1\n",
    "    y_pred = model(categorical_train_data, numerical_train_data)\n",
    "#     print(y_pred)\n",
    "    single_loss = loss_function(y_pred, train_outputs)\n",
    "    aggregated_losses.append(single_loss)\n",
    "\n",
    "#     if i%25 == 1:\n",
    "    print(f'epoch: {i:3} loss: {single_loss.item():10.8f}')\n",
    "\n",
    "    optimizer.zero_grad()\n",
    "    single_loss.backward()\n",
    "    optimizer.step()\n",
    "\n",
    "print(f'epoch: {i:3} loss: {single_loss.item():10.10f}')"
   ]
  },
  {
   "cell_type": "code",
   "execution_count": 566,
   "metadata": {},
   "outputs": [],
   "source": [
    "from matplotlib import pyplot as plt"
   ]
  },
  {
   "cell_type": "code",
   "execution_count": 567,
   "metadata": {},
   "outputs": [
    {
     "data": {
      "text/plain": [
       "Text(0.5,0,'epoch')"
      ]
     },
     "execution_count": 567,
     "metadata": {},
     "output_type": "execute_result"
    },
    {
     "data": {
      "image/png": "[encoded data removed]",
      "text/plain": [
       "<Figure size 432x288 with 1 Axes>"
      ]
     },
     "metadata": {},
     "output_type": "display_data"
    }
   ],
   "source": [
    "plt.plot(range(epochs), aggregated_losses)\n",
    "plt.ylabel('Loss')\n",
    "plt.xlabel('epoch')"
   ]
  },
  {
   "cell_type": "code",
   "execution_count": null,
   "metadata": {},
   "outputs": [],
   "source": []
  },
  {
   "cell_type": "markdown",
   "metadata": {},
   "source": [
    "## Predict - While Testing"
   ]
  },
  {
   "cell_type": "code",
   "execution_count": 568,
   "metadata": {},
   "outputs": [
    {
     "name": "stdout",
     "output_type": "stream",
     "text": [
      "Loss: 0.32718718\n"
     ]
    }
   ],
   "source": [
    "with torch.no_grad():\n",
    "    y_val = model(categorical_test_data, numerical_test_data)\n",
    "    loss = loss_function(y_val, test_outputs)\n",
    "print(f'Loss: {loss:.8f}')"
   ]
  },
  {
   "cell_type": "code",
   "execution_count": 569,
   "metadata": {},
   "outputs": [],
   "source": [
    "y_val = np.argmax(y_val, axis=1)"
   ]
  },
  {
   "cell_type": "code",
   "execution_count": 570,
   "metadata": {},
   "outputs": [
    {
     "name": "stdout",
     "output_type": "stream",
     "text": [
      "[[2634    0    0    0   12    0]\n",
      " [   0    0    0    0    0    0]\n",
      " [   1    0    0  100    0    0]\n",
      " [   2    0    0 1819  268    0]\n",
      " [   6    0    0  429 1304    0]\n",
      " [   0    0    0    0    9    0]]\n",
      "              precision    recall  f1-score   support\n",
      "\n",
      "           0       1.00      1.00      1.00      2646\n",
      "           2       0.00      0.00      0.00       101\n",
      "           3       0.77      0.87      0.82      2089\n",
      "           4       0.82      0.75      0.78      1739\n",
      "           5       0.00      0.00      0.00         9\n",
      "\n",
      "    accuracy                           0.87      6584\n",
      "   macro avg       0.52      0.52      0.52      6584\n",
      "weighted avg       0.86      0.87      0.87      6584\n",
      "\n",
      "0.8743924665856622\n"
     ]
    },
    {
     "name": "stderr",
     "output_type": "stream",
     "text": [
      "/Users/taru/anaconda3/lib/python3.6/site-packages/sklearn/metrics/_classification.py:1221: UndefinedMetricWarning: Precision and F-score are ill-defined and being set to 0.0 in labels with no predicted samples. Use `zero_division` parameter to control this behavior.\n",
      "  _warn_prf(average, modifier, msg_start, len(result))\n"
     ]
    }
   ],
   "source": [
    "from sklearn.metrics import classification_report, confusion_matrix, accuracy_score\n",
    "\n",
    "print(confusion_matrix(test_outputs,y_val, labels=[0,1,2,3,4,5]))\n",
    "print(classification_report(test_outputs,y_val))\n",
    "print(accuracy_score(test_outputs, y_val))"
   ]
  },
  {
   "cell_type": "code",
   "execution_count": null,
   "metadata": {},
   "outputs": [],
   "source": []
  },
  {
   "cell_type": "markdown",
   "metadata": {},
   "source": [
    "# For Submission"
   ]
  },
  {
   "cell_type": "code",
   "execution_count": 479,
   "metadata": {},
   "outputs": [],
   "source": [
    "# get train data from CSV\n",
    "df_test = pd.read_csv('cs480-spring2020/test.csv').fillna(' ')\n",
    "\n",
    "# category one hot encoding\n",
    "df_test['category'] = df_test['category'].astype('category')\n",
    "df_test['category'] = df_test['category'].cat.codes\n",
    "\n",
    "# datetime columns\n",
    "df_test['published'] = pd.to_datetime(df_test['published'], \n",
    " format = '%Y-%m-%dT%H:%M:%SZ', \n",
    " errors = 'coerce')\n",
    "df_test['modified'] = pd.to_datetime(df_test['modified'], \n",
    " format = '%Y-%m-%dT%H:%M:%SZ', \n",
    " errors = 'coerce')\n",
    "\n",
    "\n",
    "df_test['published_year'] = df_test['published'].dt.year\n",
    "df_test['published_month'] = df_test['published'].dt.month\n",
    "df_test['published_week'] = df_test['published'].dt.week\n",
    "df_test['published_day'] = df_test['published'].dt.day\n",
    "df_test['published_hour'] = df_test['published'].dt.hour\n",
    "df_test['published_minute'] = df_test['published'].dt.minute\n",
    "df_test['published_dayofweek'] = df_test['published'].dt.dayofweek\n",
    "\n",
    "df_test['modified_year'] = df_test['modified'].dt.year\n",
    "df_test['modified_month'] = df_test['modified'].dt.month\n",
    "df_test['modified_week'] = df_test['modified'].dt.week\n",
    "df_test['modified_day'] = df_test['modified'].dt.day\n",
    "df_test['modified_hour'] = df_test['modified'].dt.hour\n",
    "df_test['modified_minute'] = df_test['modified'].dt.minute\n",
    "df_test['modified_dayofweek'] = df_test['modified'].dt.dayofweek"
   ]
  },
  {
   "cell_type": "code",
   "execution_count": 480,
   "metadata": {},
   "outputs": [],
   "source": [
    "for category in categorical_columns:\n",
    "    df_test[category] = df_test[category].astype('category')"
   ]
  },
  {
   "cell_type": "code",
   "execution_count": 481,
   "metadata": {},
   "outputs": [
    {
     "data": {
      "text/plain": [
       "tensor([[0],\n",
       "        [1],\n",
       "        [1],\n",
       "        [1],\n",
       "        [0]])"
      ]
     },
     "execution_count": 481,
     "metadata": {},
     "output_type": "execute_result"
    }
   ],
   "source": [
    "category = df_test['category'].cat.codes.values\n",
    "# pub = df_train['published'].cat.codes.values\n",
    "categorical_test_data = np.stack([category], 1)\n",
    "categorical_test_data = torch.tensor(categorical_test_data, dtype=torch.int64)\n",
    "categorical_test_data[:5]"
   ]
  },
  {
   "cell_type": "code",
   "execution_count": 482,
   "metadata": {},
   "outputs": [
    {
     "data": {
      "text/plain": [
       "tensor([[ 4.6000e+01,  5.0000e+00,  6.4060e+05,  2.0200e+03,  5.0000e+00,\n",
       "          2.0000e+01,  1.2000e+01,  1.9000e+01,  2.5000e+01,  1.0000e+00,\n",
       "          2.0200e+03,  5.0000e+00,  2.0000e+01,  1.2000e+01,  1.9000e+01,\n",
       "          2.5000e+01,  1.0000e+00,  9.0000e+00,  1.1500e+01,  5.0000e+00,\n",
       "          1.0000e+00,  3.0000e+00,  4.0000e+00,  4.0000e+00,  4.3330e+00,\n",
       "          3.8330e+00, -1.0000e+00,  3.0000e+00,  4.0000e+00, -1.0000e+00,\n",
       "         -1.0000e+00, -1.0000e+00, -1.0000e+00, -1.0000e+00, -1.0000e+00,\n",
       "         -1.0000e+00]])"
      ]
     },
     "execution_count": 482,
     "metadata": {},
     "output_type": "execute_result"
    }
   ],
   "source": [
    "numerical_test_data = np.stack([df_test[col].values for col in numerical_columns], 1)\n",
    "numerical_test_data = torch.tensor(numerical_test_data, dtype=torch.float)\n",
    "numerical_test_data[:1]"
   ]
  },
  {
   "cell_type": "code",
   "execution_count": 483,
   "metadata": {},
   "outputs": [],
   "source": [
    "# Predict\n",
    "\n",
    "with torch.no_grad():\n",
    "    y_val = model(categorical_test_data, numerical_test_data)\n",
    "    \n",
    "y_val = np.argmax(y_val, axis=1)"
   ]
  },
  {
   "cell_type": "code",
   "execution_count": 485,
   "metadata": {},
   "outputs": [
    {
     "data": {
      "text/plain": [
       "4959"
      ]
     },
     "execution_count": 485,
     "metadata": {},
     "output_type": "execute_result"
    }
   ],
   "source": [
    "# create submission file to submit in Kaggle competition\n",
    "submission = pd.DataFrame({'id': df_test['id'], 'label': y_val})\n",
    "submission.to_csv('submission6.csv', index=False)\n",
    "len(submission)"
   ]
  },
  {
   "cell_type": "code",
   "execution_count": null,
   "metadata": {},
   "outputs": [],
   "source": []
  }
 ],
 "metadata": {
  "kernelspec": {
   "display_name": "Python 3",
   "language": "python",
   "name": "python3"
  },
  "language_info": {
   "codemirror_mode": {
    "name": "ipython",
    "version": 3
   },
   "file_extension": ".py",
   "mimetype": "text/x-python",
   "name": "python",
   "nbconvert_exporter": "python",
   "pygments_lexer": "ipython3",
   "version": "3.6.5"
  }
 },
 "nbformat": 4,
 "nbformat_minor": 2
}
